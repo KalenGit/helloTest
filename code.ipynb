{
 "cells": [
  {
   "cell_type": "code",
   "execution_count": 1,
   "metadata": {
    "collapsed": true
   },
   "outputs": [],
   "source": [
    "import pandas as pd\n",
    "import numpy as np\n",
    "import matplotlib.pyplot as plt\n",
    "import copy\n",
    "import word2vec\n",
    "import jieba"
   ]
  },
  {
   "cell_type": "code",
   "execution_count": 2,
   "metadata": {
    "collapsed": true
   },
   "outputs": [],
   "source": [
    "df_train=pd.read_csv('train_first.csv')\n",
    "df_predict=pd.read_csv('predict_first.csv')\n",
    "df_sample=pd.read_csv('YNU.EDU2018-ScenicWord_submite_sample.csv', header=None)"
   ]
  },
  {
   "cell_type": "code",
   "execution_count": 3,
   "metadata": {},
   "outputs": [
    {
     "data": {
      "text/html": [
       "<div>\n",
       "<style>\n",
       "    .dataframe thead tr:only-child th {\n",
       "        text-align: right;\n",
       "    }\n",
       "\n",
       "    .dataframe thead th {\n",
       "        text-align: left;\n",
       "    }\n",
       "\n",
       "    .dataframe tbody tr th {\n",
       "        vertical-align: top;\n",
       "    }\n",
       "</style>\n",
       "<table border=\"1\" class=\"dataframe\">\n",
       "  <thead>\n",
       "    <tr style=\"text-align: right;\">\n",
       "      <th></th>\n",
       "      <th>Id</th>\n",
       "      <th>Discuss</th>\n",
       "      <th>Score</th>\n",
       "    </tr>\n",
       "  </thead>\n",
       "  <tbody>\n",
       "    <tr>\n",
       "      <th>0</th>\n",
       "      <td>201e8bf2-77a2-3a98-9fcf-4ce03914e712</td>\n",
       "      <td>好大的一个游乐公园，已经去了2次，但感觉还没有玩够似的！会有第三，第四次的</td>\n",
       "      <td>5</td>\n",
       "    </tr>\n",
       "  </tbody>\n",
       "</table>\n",
       "</div>"
      ],
      "text/plain": [
       "                                     Id  \\\n",
       "0  201e8bf2-77a2-3a98-9fcf-4ce03914e712   \n",
       "\n",
       "                                 Discuss  Score  \n",
       "0  好大的一个游乐公园，已经去了2次，但感觉还没有玩够似的！会有第三，第四次的      5  "
      ]
     },
     "execution_count": 3,
     "metadata": {},
     "output_type": "execute_result"
    }
   ],
   "source": [
    "df_train.head(1)"
   ]
  },
  {
   "cell_type": "code",
   "execution_count": 4,
   "metadata": {},
   "outputs": [
    {
     "data": {
      "text/html": [
       "<div>\n",
       "<style>\n",
       "    .dataframe thead tr:only-child th {\n",
       "        text-align: right;\n",
       "    }\n",
       "\n",
       "    .dataframe thead th {\n",
       "        text-align: left;\n",
       "    }\n",
       "\n",
       "    .dataframe tbody tr th {\n",
       "        vertical-align: top;\n",
       "    }\n",
       "</style>\n",
       "<table border=\"1\" class=\"dataframe\">\n",
       "  <thead>\n",
       "    <tr style=\"text-align: right;\">\n",
       "      <th></th>\n",
       "      <th>Id</th>\n",
       "      <th>Discuss</th>\n",
       "    </tr>\n",
       "  </thead>\n",
       "  <tbody>\n",
       "    <tr>\n",
       "      <th>0</th>\n",
       "      <td>9a1caf96-681e-3c11-b588-43ac742d7fd2</td>\n",
       "      <td>快乐之旅</td>\n",
       "    </tr>\n",
       "  </tbody>\n",
       "</table>\n",
       "</div>"
      ],
      "text/plain": [
       "                                     Id Discuss\n",
       "0  9a1caf96-681e-3c11-b588-43ac742d7fd2    快乐之旅"
      ]
     },
     "execution_count": 4,
     "metadata": {},
     "output_type": "execute_result"
    }
   ],
   "source": [
    "df_predict.head(1)"
   ]
  },
  {
   "cell_type": "code",
   "execution_count": 5,
   "metadata": {},
   "outputs": [
    {
     "data": {
      "text/html": [
       "<div>\n",
       "<style>\n",
       "    .dataframe thead tr:only-child th {\n",
       "        text-align: right;\n",
       "    }\n",
       "\n",
       "    .dataframe thead th {\n",
       "        text-align: left;\n",
       "    }\n",
       "\n",
       "    .dataframe tbody tr th {\n",
       "        vertical-align: top;\n",
       "    }\n",
       "</style>\n",
       "<table border=\"1\" class=\"dataframe\">\n",
       "  <thead>\n",
       "    <tr style=\"text-align: right;\">\n",
       "      <th></th>\n",
       "      <th>0</th>\n",
       "      <th>1</th>\n",
       "    </tr>\n",
       "  </thead>\n",
       "  <tbody>\n",
       "    <tr>\n",
       "      <th>0</th>\n",
       "      <td>9a1caf96-681e-3c11-b588-43ac742d7fd2</td>\n",
       "      <td>1</td>\n",
       "    </tr>\n",
       "  </tbody>\n",
       "</table>\n",
       "</div>"
      ],
      "text/plain": [
       "                                      0  1\n",
       "0  9a1caf96-681e-3c11-b588-43ac742d7fd2  1"
      ]
     },
     "execution_count": 5,
     "metadata": {},
     "output_type": "execute_result"
    }
   ],
   "source": [
    "df_sample.head(1)"
   ]
  },
  {
   "cell_type": "code",
   "execution_count": 6,
   "metadata": {
    "collapsed": true
   },
   "outputs": [],
   "source": [
    "df_train_discuss=df_train.iloc[:,1]\n",
    "df_train_score=df_train.iloc[:,2]\n",
    "df_predict_disscuss=df_predict.iloc[:,1]"
   ]
  },
  {
   "cell_type": "code",
   "execution_count": 7,
   "metadata": {
    "collapsed": true
   },
   "outputs": [],
   "source": [
    "size_train=df_train_discuss.shape[0]\n",
    "size_predict=df_predict_disscuss.shape[0]"
   ]
  },
  {
   "cell_type": "code",
   "execution_count": 15,
   "metadata": {
    "collapsed": true
   },
   "outputs": [],
   "source": [
    "#把所有评论写进data.txt\n",
    "txtName = \"data.txt\"\n",
    "f=open(txtName, \"a+\")\n",
    "for i in range(size_train):\n",
    "  new_context = df_train_discuss[i]\n",
    "  f.write(new_context)\n",
    "f.close()\n",
    "\n",
    "f=open(txtName, \"a+\")\n",
    "for i in range(size_predict):\n",
    "  new_context = df_predict_disscuss[i]\n",
    "  f.write(new_context)\n",
    "f.close()"
   ]
  },
  {
   "cell_type": "code",
   "execution_count": 17,
   "metadata": {},
   "outputs": [
    {
     "name": "stderr",
     "output_type": "stream",
     "text": [
      "Building prefix dict from the default dictionary ...\n",
      "Loading model from cache /tmp/jieba.cache\n",
      "Loading model cost 2.379 seconds.\n",
      "Prefix dict has been built succesfully.\n"
     ]
    }
   ],
   "source": [
    "##把所有评论分词后写进data_cut.txt\n",
    "import jieba\n",
    "\n",
    "txtName = \"data_cut.txt\"\n",
    "f=open(txtName, \"a+\")\n",
    "for i in range(size_train):\n",
    "  new_context = df_train_discuss[i]\n",
    "  seg_list = jieba.cut(new_context, cut_all=False)  #精确模式\n",
    "  temp=\" \".join(seg_list)\n",
    "  f.write(temp)\n",
    "f.close()\n",
    "\n",
    "f=open(txtName, \"a+\")\n",
    "for i in range(size_predict):\n",
    "  new_context = df_predict_disscuss[i]\n",
    "  seg_list = jieba.cut(new_context, cut_all=False)  #精确模式\n",
    "  temp=\" \".join(seg_list)\n",
    "  f.write(temp)\n",
    "f.close()"
   ]
  },
  {
   "cell_type": "code",
   "execution_count": 18,
   "metadata": {},
   "outputs": [
    {
     "name": "stdout",
     "output_type": "stream",
     "text": [
      "Starting training using file data_cut.txt\n",
      "Vocab size: 30794\n",
      "Words in train file: 3512108\n",
      "Alpha: 0.000002  Progress: 100.23%  Words/thread/sec: 194.97k  "
     ]
    }
   ],
   "source": [
    "#分词结果转词向量\n",
    "word2vec.word2vec('data_cut.txt','datacut2vec.txt',size=100,binary=0,verbose=True)"
   ]
  },
  {
   "cell_type": "code",
   "execution_count": 19,
   "metadata": {
    "scrolled": true
   },
   "outputs": [
    {
     "name": "stdout",
     "output_type": "stream",
     "text": [
      "Starting training using file data_cut.txt\n",
      "Vocab size: 30794\n",
      "Words in train file: 3512108\n",
      "Alpha: 0.000002  Progress: 100.24%  Words/thread/sec: 191.01k  "
     ]
    }
   ],
   "source": [
    "#分词结果转词向量，binary=1，保存2进制\n",
    "word2vec.word2vec('data_cut.txt','datacut2vec.bin',size=100,verbose=True)"
   ]
  },
  {
   "cell_type": "code",
   "execution_count": 8,
   "metadata": {
    "collapsed": true
   },
   "outputs": [],
   "source": [
    "#加载2进制模型\n",
    "model = word2vec.load(\"datacut2vec.bin\")"
   ]
  },
  {
   "cell_type": "code",
   "execution_count": 12,
   "metadata": {},
   "outputs": [
    {
     "data": {
      "text/plain": [
       "(30794, 100)"
      ]
     },
     "execution_count": 12,
     "metadata": {},
     "output_type": "execute_result"
    }
   ],
   "source": [
    "#查看(词种类,向量长度)\n",
    "model.vectors.shape"
   ]
  },
  {
   "cell_type": "code",
   "execution_count": 13,
   "metadata": {},
   "outputs": [
    {
     "data": {
      "text/plain": [
       "[('愉快', 0.8231577460181105),\n",
       " ('尽兴', 0.808566055801806),\n",
       " ('高兴', 0.8044531686098497),\n",
       " ('满意', 0.7948009050165401),\n",
       " ('嗨', 0.7914376428645133),\n",
       " ('玩得', 0.7709018268364819),\n",
       " ('刺激', 0.7003743350078403),\n",
       " ('好玩', 0.6932283527654731),\n",
       " ('过瘾', 0.6805863446233239),\n",
       " ('不亦乐乎', 0.6628179337460192)]"
      ]
     },
     "execution_count": 13,
     "metadata": {},
     "output_type": "execute_result"
    }
   ],
   "source": [
    "#查看开心相似的词\n",
    "indexes, metrics = model.cosine('开心')\n",
    "model.generate_response(indexes, metrics).tolist()"
   ]
  },
  {
   "cell_type": "code",
   "execution_count": 14,
   "metadata": {},
   "outputs": [
    {
     "data": {
      "text/plain": [
       "array(['愉快', '尽兴', '高兴', '满意', '嗨', '玩得', '刺激', '好玩', '过瘾', '不亦乐乎'],\n",
       "      dtype='<U78')"
      ]
     },
     "execution_count": 14,
     "metadata": {},
     "output_type": "execute_result"
    }
   ],
   "source": [
    "model.vocab[indexes]"
   ]
  },
  {
   "cell_type": "code",
   "execution_count": 15,
   "metadata": {},
   "outputs": [
    {
     "data": {
      "text/plain": [
       "array([-0.01928491,  0.0662433 ,  0.03182978,  0.01492733, -0.00763006,\n",
       "        0.00848764,  0.0889774 ,  0.18722373, -0.0669461 ,  0.17440498,\n",
       "       -0.03267164, -0.01789011, -0.11087401, -0.0636642 ,  0.35319501,\n",
       "       -0.03246265,  0.00619818,  0.06895117,  0.07648829, -0.01684442,\n",
       "        0.01501444,  0.01175302,  0.05242033,  0.02011202,  0.00458811,\n",
       "       -0.0424597 , -0.09620111, -0.15486436,  0.04866413, -0.01261033,\n",
       "       -0.01905541,  0.05134242, -0.08318099,  0.09625493,  0.08618046,\n",
       "       -0.08016401,  0.04179135,  0.00924249, -0.06242755,  0.07495977,\n",
       "        0.06964105, -0.01402107,  0.01183268,  0.00894212, -0.08718424,\n",
       "        0.04243084,  0.01501214, -0.12650648, -0.13411283,  0.04910121,\n",
       "       -0.02797421,  0.10500129, -0.19808939,  0.17301838, -0.03156738,\n",
       "        0.04039668,  0.15247281, -0.13889749,  0.0563883 ,  0.11078001,\n",
       "       -0.04900065, -0.0078511 , -0.20173605, -0.06440339,  0.0083207 ,\n",
       "       -0.20345651, -0.20412733, -0.03150341, -0.00864833, -0.05975595,\n",
       "       -0.04973531, -0.02941119, -0.14306849, -0.03073076, -0.0354049 ,\n",
       "       -0.10007255,  0.00040723, -0.13438223,  0.10332311, -0.02363953,\n",
       "        0.17464299,  0.05496581, -0.07731809, -0.03690607,  0.03784399,\n",
       "        0.08137835,  0.03075121, -0.21533073, -0.13882607, -0.11967917,\n",
       "       -0.08426711,  0.01971027,  0.09956267,  0.01145432, -0.01131559,\n",
       "       -0.11956191,  0.0826749 ,  0.08479979,  0.07874425, -0.31742427])"
      ]
     },
     "execution_count": 15,
     "metadata": {},
     "output_type": "execute_result"
    }
   ],
   "source": [
    "model['开心']"
   ]
  },
  {
   "cell_type": "code",
   "execution_count": 16,
   "metadata": {},
   "outputs": [
    {
     "data": {
      "text/plain": [
       "array([[ 0.14333282,  0.15825513, -0.13715845, ...,  0.05456942,\n",
       "         0.10955409,  0.00693387],\n",
       "       [ 0.12141711, -0.14077131,  0.20536812, ..., -0.10433207,\n",
       "         0.0565908 , -0.22133273],\n",
       "       [-0.09403267, -0.07335123,  0.1379277 , ..., -0.14185134,\n",
       "         0.13306837, -0.09429559],\n",
       "       ..., \n",
       "       [ 0.20820595, -0.20082836, -0.07143635, ...,  0.06747279,\n",
       "        -0.02966592, -0.03366085],\n",
       "       [ 0.02756922, -0.11525479, -0.00517522, ...,  0.1253989 ,\n",
       "        -0.01663296, -0.0978307 ],\n",
       "       [-0.01295421,  0.11005488, -0.11723243, ...,  0.06605586,\n",
       "         0.08689452,  0.00726512]])"
      ]
     },
     "execution_count": 16,
     "metadata": {},
     "output_type": "execute_result"
    }
   ],
   "source": [
    "model.vectors"
   ]
  },
  {
   "cell_type": "code",
   "execution_count": 17,
   "metadata": {},
   "outputs": [
    {
     "data": {
      "text/plain": [
       "True"
      ]
     },
     "execution_count": 17,
     "metadata": {},
     "output_type": "execute_result"
    }
   ],
   "source": [
    "'开心' in model.vocab"
   ]
  },
  {
   "cell_type": "code",
   "execution_count": 39,
   "metadata": {},
   "outputs": [
    {
     "data": {
      "text/plain": [
       "array(['</s>', '，', '的', '。', '是', '了', '很', '去', '在', '有', '、', '也', '都',\n",
       "       '就', '可以', '/', '好', '！', '<', 'br', '>', '我', '人', '和', '到', '不',\n",
       "       '不错', '一个', '景区', '就是', '地方', '还', '还是', '看', '要', '没有', '上', '很多',\n",
       "       '我们', '这里', '多', '值得', '非常', '景点', '时候', '走', '感觉', '“', 'rn', '”',\n",
       "       '来', '但是', '比较', '风景', '里面', '着', '门票', '真的', '看到', '会', '还有', '大',\n",
       "       '美', '你', '说', '没', '元', '景色', '吧', '不过', '但', '时间', '从', '~', '（',\n",
       "       '个', '特别', '中', '最', '玩', '为', '等', '北京', '）', '所以', '能', '这', '坐',\n",
       "       '看看', '喜欢', '建筑', '下', '西湖', '不是', '小', '因为', '再', '挺', '一定', '：'],\n",
       "      dtype='<U78')"
      ]
     },
     "execution_count": 39,
     "metadata": {},
     "output_type": "execute_result"
    }
   ],
   "source": [
    "model.vocab[:100]"
   ]
  },
  {
   "cell_type": "code",
   "execution_count": 19,
   "metadata": {},
   "outputs": [
    {
     "data": {
      "text/plain": [
       "array([ 0.09764452, -0.01303583,  0.15681861,  0.05190873, -0.01307653,\n",
       "        0.00175333, -0.04392988, -0.09530123, -0.01999159, -0.08307609,\n",
       "       -0.0053444 , -0.1087267 , -0.03606439,  0.16464292,  0.05315719,\n",
       "        0.0408749 , -0.02366183, -0.16061747,  0.06861912, -0.13888219,\n",
       "       -0.06347895,  0.03101562,  0.08214869,  0.03817331,  0.09868269,\n",
       "       -0.11564768, -0.04638781,  0.17404495, -0.11705438,  0.08511067,\n",
       "       -0.01265445,  0.00102463,  0.08052276, -0.00835348,  0.13221705,\n",
       "       -0.04681504,  0.08059558,  0.12184568,  0.03985736,  0.05522351,\n",
       "        0.10067814, -0.00441468,  0.06466655, -0.14183915,  0.16349228,\n",
       "        0.02168658,  0.19480647, -0.19246206, -0.07416003,  0.0740526 ,\n",
       "        0.06234412,  0.04168399, -0.05237995, -0.09793588, -0.16488567,\n",
       "        0.05525423, -0.02878505,  0.19689924, -0.01365539, -0.06514952,\n",
       "       -0.20056464, -0.03691774,  0.10557638,  0.17961128, -0.04169786,\n",
       "       -0.01951198, -0.22390193, -0.05919082,  0.07955503,  0.07162654,\n",
       "       -0.00024297, -0.04082336, -0.03244481, -0.00592873, -0.04822148,\n",
       "        0.00805144, -0.10006604,  0.10390598,  0.08636282, -0.1401982 ,\n",
       "        0.13559277,  0.13391726, -0.02379319, -0.23809005, -0.07830483,\n",
       "       -0.18881074, -0.01011553, -0.00400044,  0.18096966,  0.0937981 ,\n",
       "       -0.02679211,  0.07790013, -0.08430768, -0.02871155,  0.06315982,\n",
       "       -0.02322045, -0.09998673, -0.06615977, -0.0129356 , -0.22671501])"
      ]
     },
     "execution_count": 19,
     "metadata": {},
     "output_type": "execute_result"
    }
   ],
   "source": [
    "model['。']"
   ]
  },
  {
   "cell_type": "code",
   "execution_count": 21,
   "metadata": {},
   "outputs": [
    {
     "data": {
      "text/plain": [
       "0                好大的一个游乐公园，已经去了2次，但感觉还没有玩够似的！会有第三，第四次的\n",
       "1                      新中国成立也是在这举行，对我们中国人来说有些重要及深刻的意义！\n",
       "2                  庐山瀑布非常有名，也有非常多个瀑布，只是最好看的非三叠泉莫属，推荐一去\n",
       "3    个人觉得颐和园是北京最值的一起的地方，不过相比下门票也是最贵的，比起故宫的雄伟与气势磅礴，颐...\n",
       "4                                               迪斯尼一日游\n",
       "Name: Discuss, dtype: object"
      ]
     },
     "execution_count": 21,
     "metadata": {},
     "output_type": "execute_result"
    }
   ],
   "source": [
    "df_train_discuss.head(5)"
   ]
  },
  {
   "cell_type": "code",
   "execution_count": 9,
   "metadata": {
    "collapsed": true
   },
   "outputs": [],
   "source": [
    "#得到副本，进行统计字符长度\n",
    "df_train_discuss_copy=copy.deepcopy(df_train_discuss)\n",
    "for i in range(len(df_train_discuss_copy)):\n",
    "    df_train_discuss_copy[i]=len(df_train_discuss_copy[i])"
   ]
  },
  {
   "cell_type": "code",
   "execution_count": 10,
   "metadata": {},
   "outputs": [
    {
     "data": {
      "text/plain": [
       "0    37\n",
       "1    31\n",
       "Name: Discuss, dtype: object"
      ]
     },
     "execution_count": 10,
     "metadata": {},
     "output_type": "execute_result"
    }
   ],
   "source": [
    "df_train_discuss_copy.head(2)"
   ]
  },
  {
   "cell_type": "code",
   "execution_count": 11,
   "metadata": {},
   "outputs": [
    {
     "data": {
      "text/plain": [
       "48.283499999999997"
      ]
     },
     "execution_count": 11,
     "metadata": {},
     "output_type": "execute_result"
    }
   ],
   "source": [
    "#df_train_discuss_copy.plot.bar()\n",
    "df_train_discuss_copy.mean()"
   ]
  },
  {
   "cell_type": "code",
   "execution_count": 12,
   "metadata": {
    "collapsed": true
   },
   "outputs": [],
   "source": [
    "#作为不在model.vocab词向量表的填充\n",
    "base=model['。']"
   ]
  },
  {
   "cell_type": "code",
   "execution_count": null,
   "metadata": {},
   "outputs": [
    {
     "name": "stderr",
     "output_type": "stream",
     "text": [
      "Building prefix dict from the default dictionary ...\n",
      "Loading model from cache /tmp/jieba.cache\n",
      "Loading model cost 1.578 seconds.\n",
      "Prefix dict has been built succesfully.\n"
     ]
    }
   ],
   "source": [
    "size_train = len(df_train_discuss)\n",
    "data_array = np.array([]).reshape(-1, 4000)\n",
    "for i in range(size_train):\n",
    "    new_context = df_train_discuss[i]\n",
    "    seg_list = jieba.cut(new_context, cut_all=False)  # 精确模式\n",
    "    temp = \"#\".join(seg_list)\n",
    "    vec = temp.split('#')\n",
    "    temp_list = []\n",
    "    for item in vec:\n",
    "        if item in model.vocab:\n",
    "            temp_list.append(model[item].tolist())\n",
    "        else:\n",
    "            temp_list.append(base.tolist())\n",
    "    len2 = len(temp_list)\n",
    "    if len2 > 40:\n",
    "        temp_list = temp_list[:40]\n",
    "    if len2 < 40:\n",
    "        for i in range(40 - len2):\n",
    "            temp_list.append(base.tolist())\n",
    "    data_array = np.concatenate((data_array, np.array(temp_list).reshape(1, -1)), axis=0)\n"
   ]
  },
  {
   "cell_type": "code",
   "execution_count": 9,
   "metadata": {},
   "outputs": [
    {
     "data": {
      "text/plain": [
       "(2, 10000)"
      ]
     },
     "execution_count": 9,
     "metadata": {},
     "output_type": "execute_result"
    }
   ],
   "source": [
    "data_array.shape"
   ]
  },
  {
   "cell_type": "code",
   "execution_count": null,
   "metadata": {
    "collapsed": true
   },
   "outputs": [],
   "source": []
  },
  {
   "cell_type": "code",
   "execution_count": null,
   "metadata": {
    "collapsed": true
   },
   "outputs": [],
   "source": []
  },
  {
   "cell_type": "code",
   "execution_count": 29,
   "metadata": {},
   "outputs": [
    {
     "name": "stdout",
     "output_type": "stream",
     "text": [
      "['好大', '的', '一个', '游乐', '公园', '，', '已经', '去', '了', '2', '次', '，', '但', '感觉', '还', '没有', '玩够', '似的', '！', '会', '有', '第三', '，', '第四次', '的']\n"
     ]
    }
   ],
   "source": [
    "##把所有评论分词后写进data_cut.txt\n",
    "size_train=len(df_train_discuss)\n",
    "data_array=base.reshape(1,-1)\n",
    "for i in range(1):\n",
    "  new_context = df_train_discuss[i]\n",
    "  seg_list = jieba.cut(new_context, cut_all=False)  #精确模式\n",
    "  temp=\"#\".join(seg_list)\n",
    "  vec=temp.split('#')\n",
    "  print(vec)\n",
    "  temp_list=[]\n",
    "  for item in vec:\n",
    "    if item in model.vocab:\n",
    "      temp_list.append(model[item].tolist())\n",
    "    else:\n",
    "      temp_list.append(base.tolist())\n",
    "  len2=len(temp_list)\n",
    "  if len2>100:\n",
    "    temp_list=temp_list[:100]\n",
    "  if len2<100:\n",
    "    for i in range(100-len2):\n",
    "        temp_list.append(base.tolist())\n",
    "  data_array=np.concatenate((data_array, np.array(temp_list)), axis=0)"
   ]
  },
  {
   "cell_type": "code",
   "execution_count": 28,
   "metadata": {},
   "outputs": [
    {
     "data": {
      "text/plain": [
       "(101, 100)"
      ]
     },
     "execution_count": 28,
     "metadata": {},
     "output_type": "execute_result"
    }
   ],
   "source": [
    "data_array.shape\n"
   ]
  },
  {
   "cell_type": "code",
   "execution_count": 19,
   "metadata": {},
   "outputs": [
    {
     "data": {
      "text/plain": [
       "array([[1, 2, 3],\n",
       "       [3, 4, 5],\n",
       "       [5, 6, 9]])"
      ]
     },
     "execution_count": 19,
     "metadata": {},
     "output_type": "execute_result"
    }
   ],
   "source": [
    "a = np.array([[1, 2,3], [3, 4,5]])\n",
    "b = np.array([[5, 6,9]])\n",
    "c=np.concatenate((a, b), axis=0)\n",
    "c"
   ]
  },
  {
   "cell_type": "code",
   "execution_count": 16,
   "metadata": {},
   "outputs": [
    {
     "data": {
      "text/plain": [
       "(1, 100)"
      ]
     },
     "execution_count": 16,
     "metadata": {},
     "output_type": "execute_result"
    }
   ],
   "source": [
    "data_array=base.reshape(1,-1)\n",
    "data_array.shape"
   ]
  },
  {
   "cell_type": "code",
   "execution_count": 17,
   "metadata": {},
   "outputs": [
    {
     "data": {
      "text/plain": [
       "array([[ 0.09764452, -0.01303583,  0.15681861,  0.05190873, -0.01307653,\n",
       "         0.00175333, -0.04392988, -0.09530123, -0.01999159, -0.08307609,\n",
       "        -0.0053444 , -0.1087267 , -0.03606439,  0.16464292,  0.05315719,\n",
       "         0.0408749 , -0.02366183, -0.16061747,  0.06861912, -0.13888219,\n",
       "        -0.06347895,  0.03101562,  0.08214869,  0.03817331,  0.09868269,\n",
       "        -0.11564768, -0.04638781,  0.17404495, -0.11705438,  0.08511067,\n",
       "        -0.01265445,  0.00102463,  0.08052276, -0.00835348,  0.13221705,\n",
       "        -0.04681504,  0.08059558,  0.12184568,  0.03985736,  0.05522351,\n",
       "         0.10067814, -0.00441468,  0.06466655, -0.14183915,  0.16349228,\n",
       "         0.02168658,  0.19480647, -0.19246206, -0.07416003,  0.0740526 ,\n",
       "         0.06234412,  0.04168399, -0.05237995, -0.09793588, -0.16488567,\n",
       "         0.05525423, -0.02878505,  0.19689924, -0.01365539, -0.06514952,\n",
       "        -0.20056464, -0.03691774,  0.10557638,  0.17961128, -0.04169786,\n",
       "        -0.01951198, -0.22390193, -0.05919082,  0.07955503,  0.07162654,\n",
       "        -0.00024297, -0.04082336, -0.03244481, -0.00592873, -0.04822148,\n",
       "         0.00805144, -0.10006604,  0.10390598,  0.08636282, -0.1401982 ,\n",
       "         0.13559277,  0.13391726, -0.02379319, -0.23809005, -0.07830483,\n",
       "        -0.18881074, -0.01011553, -0.00400044,  0.18096966,  0.0937981 ,\n",
       "        -0.02679211,  0.07790013, -0.08430768, -0.02871155,  0.06315982,\n",
       "        -0.02322045, -0.09998673, -0.06615977, -0.0129356 , -0.22671501]])"
      ]
     },
     "execution_count": 17,
     "metadata": {},
     "output_type": "execute_result"
    }
   ],
   "source": [
    "data_array"
   ]
  },
  {
   "cell_type": "code",
   "execution_count": 27,
   "metadata": {},
   "outputs": [],
   "source": [
    "d=base.reshape(1,-1)"
   ]
  },
  {
   "cell_type": "code",
   "execution_count": 31,
   "metadata": {},
   "outputs": [],
   "source": [
    "e=np.concatenate((d, d), axis=0)"
   ]
  },
  {
   "cell_type": "code",
   "execution_count": 32,
   "metadata": {},
   "outputs": [
    {
     "data": {
      "text/plain": [
       "array([[ 0.09764452, -0.01303583,  0.15681861,  0.05190873, -0.01307653,\n",
       "         0.00175333, -0.04392988, -0.09530123, -0.01999159, -0.08307609,\n",
       "        -0.0053444 , -0.1087267 , -0.03606439,  0.16464292,  0.05315719,\n",
       "         0.0408749 , -0.02366183, -0.16061747,  0.06861912, -0.13888219,\n",
       "        -0.06347895,  0.03101562,  0.08214869,  0.03817331,  0.09868269,\n",
       "        -0.11564768, -0.04638781,  0.17404495, -0.11705438,  0.08511067,\n",
       "        -0.01265445,  0.00102463,  0.08052276, -0.00835348,  0.13221705,\n",
       "        -0.04681504,  0.08059558,  0.12184568,  0.03985736,  0.05522351,\n",
       "         0.10067814, -0.00441468,  0.06466655, -0.14183915,  0.16349228,\n",
       "         0.02168658,  0.19480647, -0.19246206, -0.07416003,  0.0740526 ,\n",
       "         0.06234412,  0.04168399, -0.05237995, -0.09793588, -0.16488567,\n",
       "         0.05525423, -0.02878505,  0.19689924, -0.01365539, -0.06514952,\n",
       "        -0.20056464, -0.03691774,  0.10557638,  0.17961128, -0.04169786,\n",
       "        -0.01951198, -0.22390193, -0.05919082,  0.07955503,  0.07162654,\n",
       "        -0.00024297, -0.04082336, -0.03244481, -0.00592873, -0.04822148,\n",
       "         0.00805144, -0.10006604,  0.10390598,  0.08636282, -0.1401982 ,\n",
       "         0.13559277,  0.13391726, -0.02379319, -0.23809005, -0.07830483,\n",
       "        -0.18881074, -0.01011553, -0.00400044,  0.18096966,  0.0937981 ,\n",
       "        -0.02679211,  0.07790013, -0.08430768, -0.02871155,  0.06315982,\n",
       "        -0.02322045, -0.09998673, -0.06615977, -0.0129356 , -0.22671501],\n",
       "       [ 0.09764452, -0.01303583,  0.15681861,  0.05190873, -0.01307653,\n",
       "         0.00175333, -0.04392988, -0.09530123, -0.01999159, -0.08307609,\n",
       "        -0.0053444 , -0.1087267 , -0.03606439,  0.16464292,  0.05315719,\n",
       "         0.0408749 , -0.02366183, -0.16061747,  0.06861912, -0.13888219,\n",
       "        -0.06347895,  0.03101562,  0.08214869,  0.03817331,  0.09868269,\n",
       "        -0.11564768, -0.04638781,  0.17404495, -0.11705438,  0.08511067,\n",
       "        -0.01265445,  0.00102463,  0.08052276, -0.00835348,  0.13221705,\n",
       "        -0.04681504,  0.08059558,  0.12184568,  0.03985736,  0.05522351,\n",
       "         0.10067814, -0.00441468,  0.06466655, -0.14183915,  0.16349228,\n",
       "         0.02168658,  0.19480647, -0.19246206, -0.07416003,  0.0740526 ,\n",
       "         0.06234412,  0.04168399, -0.05237995, -0.09793588, -0.16488567,\n",
       "         0.05525423, -0.02878505,  0.19689924, -0.01365539, -0.06514952,\n",
       "        -0.20056464, -0.03691774,  0.10557638,  0.17961128, -0.04169786,\n",
       "        -0.01951198, -0.22390193, -0.05919082,  0.07955503,  0.07162654,\n",
       "        -0.00024297, -0.04082336, -0.03244481, -0.00592873, -0.04822148,\n",
       "         0.00805144, -0.10006604,  0.10390598,  0.08636282, -0.1401982 ,\n",
       "         0.13559277,  0.13391726, -0.02379319, -0.23809005, -0.07830483,\n",
       "        -0.18881074, -0.01011553, -0.00400044,  0.18096966,  0.0937981 ,\n",
       "        -0.02679211,  0.07790013, -0.08430768, -0.02871155,  0.06315982,\n",
       "        -0.02322045, -0.09998673, -0.06615977, -0.0129356 , -0.22671501]])"
      ]
     },
     "execution_count": 32,
     "metadata": {},
     "output_type": "execute_result"
    }
   ],
   "source": [
    "e"
   ]
  },
  {
   "cell_type": "code",
   "execution_count": null,
   "metadata": {
    "collapsed": true
   },
   "outputs": [],
   "source": []
  },
  {
   "cell_type": "code",
   "execution_count": 30,
   "metadata": {
    "collapsed": true
   },
   "outputs": [],
   "source": [
    "vec=temp.split('#')"
   ]
  },
  {
   "cell_type": "code",
   "execution_count": 51,
   "metadata": {
    "collapsed": true
   },
   "outputs": [],
   "source": [
    "test1=np.zeros([100,100])"
   ]
  },
  {
   "cell_type": "code",
   "execution_count": 50,
   "metadata": {
    "collapsed": true
   },
   "outputs": [],
   "source": [
    "base=model['。']"
   ]
  },
  {
   "cell_type": "code",
   "execution_count": 54,
   "metadata": {
    "collapsed": true
   },
   "outputs": [],
   "source": [
    "for i in range(100):\n",
    "    test1[i]=base"
   ]
  },
  {
   "cell_type": "code",
   "execution_count": 64,
   "metadata": {},
   "outputs": [
    {
     "data": {
      "text/plain": [
       "array([ 0.09764452, -0.01303583,  0.15681861,  0.05190873, -0.01307653,\n",
       "        0.00175333, -0.04392988, -0.09530123, -0.01999159, -0.08307609,\n",
       "       -0.0053444 , -0.1087267 , -0.03606439,  0.16464292,  0.05315719,\n",
       "        0.0408749 , -0.02366183, -0.16061747,  0.06861912, -0.13888219,\n",
       "       -0.06347895,  0.03101562,  0.08214869,  0.03817331,  0.09868269,\n",
       "       -0.11564768, -0.04638781,  0.17404495, -0.11705438,  0.08511067,\n",
       "       -0.01265445,  0.00102463,  0.08052276, -0.00835348,  0.13221705,\n",
       "       -0.04681504,  0.08059558,  0.12184568,  0.03985736,  0.05522351,\n",
       "        0.10067814, -0.00441468,  0.06466655, -0.14183915,  0.16349228,\n",
       "        0.02168658,  0.19480647, -0.19246206, -0.07416003,  0.0740526 ,\n",
       "        0.06234412,  0.04168399, -0.05237995, -0.09793588, -0.16488567,\n",
       "        0.05525423, -0.02878505,  0.19689924, -0.01365539, -0.06514952,\n",
       "       -0.20056464, -0.03691774,  0.10557638,  0.17961128, -0.04169786,\n",
       "       -0.01951198, -0.22390193, -0.05919082,  0.07955503,  0.07162654,\n",
       "       -0.00024297, -0.04082336, -0.03244481, -0.00592873, -0.04822148,\n",
       "        0.00805144, -0.10006604,  0.10390598,  0.08636282, -0.1401982 ,\n",
       "        0.13559277,  0.13391726, -0.02379319, -0.23809005, -0.07830483,\n",
       "       -0.18881074, -0.01011553, -0.00400044,  0.18096966,  0.0937981 ,\n",
       "       -0.02679211,  0.07790013, -0.08430768, -0.02871155,  0.06315982,\n",
       "       -0.02322045, -0.09998673, -0.06615977, -0.0129356 , -0.22671501])"
      ]
     },
     "execution_count": 64,
     "metadata": {},
     "output_type": "execute_result"
    }
   ],
   "source": [
    "base"
   ]
  },
  {
   "cell_type": "code",
   "execution_count": 65,
   "metadata": {
    "collapsed": true
   },
   "outputs": [],
   "source": [
    "temp_list=[]\n",
    "count=0\n",
    "for item in vec:\n",
    "   if item in model.vocab:\n",
    "     temp_list.append(model[item])\n",
    "   else:\n",
    "     temp_list.append(base)\n",
    "\n",
    "   \n",
    "    \n",
    "    "
   ]
  },
  {
   "cell_type": "code",
   "execution_count": 73,
   "metadata": {
    "collapsed": true
   },
   "outputs": [],
   "source": [
    "\n",
    "    "
   ]
  },
  {
   "cell_type": "code",
   "execution_count": 74,
   "metadata": {},
   "outputs": [
    {
     "data": {
      "text/plain": [
       "100"
      ]
     },
     "execution_count": 74,
     "metadata": {},
     "output_type": "execute_result"
    }
   ],
   "source": [
    "len(temp_list)"
   ]
  },
  {
   "cell_type": "code",
   "execution_count": 75,
   "metadata": {
    "collapsed": true
   },
   "outputs": [],
   "source": [
    "array_temp=np.array(temp_list)"
   ]
  },
  {
   "cell_type": "code",
   "execution_count": 77,
   "metadata": {},
   "outputs": [
    {
     "data": {
      "text/plain": [
       "array([[-0.01961502,  0.01825931, -0.03837677, ...,  0.0343005 ,\n",
       "         0.14417726, -0.19436581],\n",
       "       [-0.09403267, -0.07335123,  0.1379277 , ..., -0.14185134,\n",
       "         0.13306837, -0.09429559],\n",
       "       [-0.13044085, -0.12964328, -0.05280824, ..., -0.03047117,\n",
       "         0.23185164,  0.03601008],\n",
       "       ..., \n",
       "       [ 0.09764452, -0.01303583,  0.15681861, ..., -0.06615977,\n",
       "        -0.0129356 , -0.22671501],\n",
       "       [ 0.09764452, -0.01303583,  0.15681861, ..., -0.06615977,\n",
       "        -0.0129356 , -0.22671501],\n",
       "       [ 0.09764452, -0.01303583,  0.15681861, ..., -0.06615977,\n",
       "        -0.0129356 , -0.22671501]])"
      ]
     },
     "execution_count": 77,
     "metadata": {},
     "output_type": "execute_result"
    }
   ],
   "source": [
    "array_temp"
   ]
  },
  {
   "cell_type": "code",
   "execution_count": null,
   "metadata": {
    "collapsed": true
   },
   "outputs": [],
   "source": []
  },
  {
   "cell_type": "code",
   "execution_count": 70,
   "metadata": {
    "collapsed": true
   },
   "outputs": [],
   "source": [
    "t2=[1,2,3,4,5]"
   ]
  },
  {
   "cell_type": "code",
   "execution_count": 71,
   "metadata": {
    "collapsed": true
   },
   "outputs": [],
   "source": [
    "t2=t2[:2]"
   ]
  },
  {
   "cell_type": "code",
   "execution_count": 72,
   "metadata": {},
   "outputs": [
    {
     "data": {
      "text/plain": [
       "[1, 2]"
      ]
     },
     "execution_count": 72,
     "metadata": {},
     "output_type": "execute_result"
    }
   ],
   "source": [
    "t2"
   ]
  },
  {
   "cell_type": "code",
   "execution_count": null,
   "metadata": {
    "collapsed": true
   },
   "outputs": [],
   "source": []
  },
  {
   "cell_type": "code",
   "execution_count": null,
   "metadata": {
    "collapsed": true
   },
   "outputs": [],
   "source": []
  },
  {
   "cell_type": "code",
   "execution_count": 37,
   "metadata": {},
   "outputs": [
    {
     "data": {
      "text/plain": [
       "array([[ 0.,  0.,  0., ...,  0.,  0.,  0.],\n",
       "       [ 0.,  0.,  0., ...,  0.,  0.,  0.],\n",
       "       [ 0.,  0.,  0., ...,  0.,  0.,  0.],\n",
       "       ..., \n",
       "       [ 0.,  0.,  0., ...,  0.,  0.,  0.],\n",
       "       [ 0.,  0.,  0., ...,  0.,  0.,  0.],\n",
       "       [ 0.,  0.,  0., ...,  0.,  0.,  0.]])"
      ]
     },
     "execution_count": 37,
     "metadata": {},
     "output_type": "execute_result"
    }
   ],
   "source": [
    "test1\n",
    "\n",
    "'开心' in model.vocab\n"
   ]
  },
  {
   "cell_type": "code",
   "execution_count": 32,
   "metadata": {},
   "outputs": [
    {
     "name": "stdout",
     "output_type": "stream",
     "text": [
      "好大\n",
      "的\n",
      "一个\n",
      "游乐\n",
      "公园\n",
      "，\n",
      "已经\n",
      "去\n",
      "了\n",
      "2\n",
      "次\n",
      "，\n",
      "但\n",
      "感觉\n",
      "还\n",
      "没有\n",
      "玩够\n",
      "似的\n",
      "！\n",
      "会\n",
      "有\n",
      "第三\n",
      "，\n",
      "第四次\n",
      "的\n"
     ]
    }
   ],
   "source": []
  },
  {
   "cell_type": "code",
   "execution_count": null,
   "metadata": {
    "collapsed": true
   },
   "outputs": [],
   "source": []
  },
  {
   "cell_type": "code",
   "execution_count": null,
   "metadata": {
    "collapsed": true
   },
   "outputs": [],
   "source": []
  },
  {
   "cell_type": "code",
   "execution_count": null,
   "metadata": {
    "collapsed": true
   },
   "outputs": [],
   "source": []
  },
  {
   "cell_type": "code",
   "execution_count": null,
   "metadata": {
    "collapsed": true
   },
   "outputs": [],
   "source": []
  },
  {
   "cell_type": "code",
   "execution_count": null,
   "metadata": {
    "collapsed": true
   },
   "outputs": [],
   "source": []
  },
  {
   "cell_type": "code",
   "execution_count": 31,
   "metadata": {
    "collapsed": true
   },
   "outputs": [],
   "source": [
    "import pandas as pd\n",
    "import numpy as np\n",
    "%matplotlib inline\n",
    "\n",
    "df = pd.DataFrame(np.random.rand(10,4),columns=['a','b','c','d'])\n"
   ]
  },
  {
   "cell_type": "code",
   "execution_count": 32,
   "metadata": {},
   "outputs": [
    {
     "data": {
      "text/html": [
       "<div>\n",
       "<style>\n",
       "    .dataframe thead tr:only-child th {\n",
       "        text-align: right;\n",
       "    }\n",
       "\n",
       "    .dataframe thead th {\n",
       "        text-align: left;\n",
       "    }\n",
       "\n",
       "    .dataframe tbody tr th {\n",
       "        vertical-align: top;\n",
       "    }\n",
       "</style>\n",
       "<table border=\"1\" class=\"dataframe\">\n",
       "  <thead>\n",
       "    <tr style=\"text-align: right;\">\n",
       "      <th></th>\n",
       "      <th>a</th>\n",
       "      <th>b</th>\n",
       "      <th>c</th>\n",
       "      <th>d</th>\n",
       "    </tr>\n",
       "  </thead>\n",
       "  <tbody>\n",
       "    <tr>\n",
       "      <th>0</th>\n",
       "      <td>0.391109</td>\n",
       "      <td>0.111701</td>\n",
       "      <td>0.352457</td>\n",
       "      <td>0.195200</td>\n",
       "    </tr>\n",
       "    <tr>\n",
       "      <th>1</th>\n",
       "      <td>0.306337</td>\n",
       "      <td>0.602399</td>\n",
       "      <td>0.315100</td>\n",
       "      <td>0.209010</td>\n",
       "    </tr>\n",
       "    <tr>\n",
       "      <th>2</th>\n",
       "      <td>0.925168</td>\n",
       "      <td>0.754941</td>\n",
       "      <td>0.114630</td>\n",
       "      <td>0.241707</td>\n",
       "    </tr>\n",
       "    <tr>\n",
       "      <th>3</th>\n",
       "      <td>0.333617</td>\n",
       "      <td>0.171248</td>\n",
       "      <td>0.498209</td>\n",
       "      <td>0.917062</td>\n",
       "    </tr>\n",
       "    <tr>\n",
       "      <th>4</th>\n",
       "      <td>0.313220</td>\n",
       "      <td>0.493201</td>\n",
       "      <td>0.522406</td>\n",
       "      <td>0.750932</td>\n",
       "    </tr>\n",
       "    <tr>\n",
       "      <th>5</th>\n",
       "      <td>0.452456</td>\n",
       "      <td>0.938258</td>\n",
       "      <td>0.543880</td>\n",
       "      <td>0.624329</td>\n",
       "    </tr>\n",
       "    <tr>\n",
       "      <th>6</th>\n",
       "      <td>0.896390</td>\n",
       "      <td>0.335073</td>\n",
       "      <td>0.200316</td>\n",
       "      <td>0.838435</td>\n",
       "    </tr>\n",
       "    <tr>\n",
       "      <th>7</th>\n",
       "      <td>0.498633</td>\n",
       "      <td>0.253226</td>\n",
       "      <td>0.149904</td>\n",
       "      <td>0.005616</td>\n",
       "    </tr>\n",
       "    <tr>\n",
       "      <th>8</th>\n",
       "      <td>0.060299</td>\n",
       "      <td>0.300905</td>\n",
       "      <td>0.901366</td>\n",
       "      <td>0.117723</td>\n",
       "    </tr>\n",
       "    <tr>\n",
       "      <th>9</th>\n",
       "      <td>0.796795</td>\n",
       "      <td>0.638461</td>\n",
       "      <td>0.237992</td>\n",
       "      <td>0.975760</td>\n",
       "    </tr>\n",
       "  </tbody>\n",
       "</table>\n",
       "</div>"
      ],
      "text/plain": [
       "          a         b         c         d\n",
       "0  0.391109  0.111701  0.352457  0.195200\n",
       "1  0.306337  0.602399  0.315100  0.209010\n",
       "2  0.925168  0.754941  0.114630  0.241707\n",
       "3  0.333617  0.171248  0.498209  0.917062\n",
       "4  0.313220  0.493201  0.522406  0.750932\n",
       "5  0.452456  0.938258  0.543880  0.624329\n",
       "6  0.896390  0.335073  0.200316  0.838435\n",
       "7  0.498633  0.253226  0.149904  0.005616\n",
       "8  0.060299  0.300905  0.901366  0.117723\n",
       "9  0.796795  0.638461  0.237992  0.975760"
      ]
     },
     "execution_count": 32,
     "metadata": {},
     "output_type": "execute_result"
    }
   ],
   "source": [
    "df"
   ]
  },
  {
   "cell_type": "code",
   "execution_count": 33,
   "metadata": {},
   "outputs": [
    {
     "data": {
      "text/plain": [
       "<matplotlib.axes._subplots.AxesSubplot at 0x7f859798b588>"
      ]
     },
     "execution_count": 33,
     "metadata": {},
     "output_type": "execute_result"
    },
    {
     "data": {
      "image/png": "[encoded data removed]",
      "text/plain": [
       "<matplotlib.figure.Figure at 0x7f85979b9e10>"
      ]
     },
     "metadata": {},
     "output_type": "display_data"
    }
   ],
   "source": [
    "df.plot.bar()"
   ]
  },
  {
   "cell_type": "code",
   "execution_count": null,
   "metadata": {
    "collapsed": true
   },
   "outputs": [],
   "source": []
  },
  {
   "cell_type": "code",
   "execution_count": null,
   "metadata": {
    "collapsed": true
   },
   "outputs": [],
   "source": []
  },
  {
   "cell_type": "code",
   "execution_count": null,
   "metadata": {
    "collapsed": true
   },
   "outputs": [],
   "source": []
  },
  {
   "cell_type": "code",
   "execution_count": null,
   "metadata": {
    "collapsed": true
   },
   "outputs": [],
   "source": []
  },
  {
   "cell_type": "code",
   "execution_count": 43,
   "metadata": {
    "collapsed": true
   },
   "outputs": [],
   "source": [
    "import sys\n",
    "sys.path.append('..')\n",
    "\n",
    "import numpy as np\n",
    "import torch\n",
    "from torch import nn\n",
    "from torch.autograd import Variable\n",
    "from torchvision.datasets import CIFAR10"
   ]
  },
  {
   "cell_type": "code",
   "execution_count": 47,
   "metadata": {
    "collapsed": true
   },
   "outputs": [],
   "source": [
    "def vgg_block(num_convs, in_channels, out_channels):\n",
    "    net = [nn.Conv2d(in_channels, out_channels, kernel_size=3, padding=1), nn.ReLU(True)] # 定义第一层\n",
    "    \n",
    "    for i in range(num_convs-1): # 定义后面的很多层\n",
    "        net.append(nn.Conv2d(out_channels, out_channels, kernel_size=3, padding=1))\n",
    "        net.append(nn.ReLU(True))\n",
    "        \n",
    "    net.append(nn.MaxPool2d(2, 2)) # 定义池化层\n",
    "    return nn.Sequential(*net)"
   ]
  },
  {
   "cell_type": "code",
   "execution_count": 55,
   "metadata": {},
   "outputs": [
    {
     "name": "stdout",
     "output_type": "stream",
     "text": [
      "Sequential (\n",
      "  (0): Conv2d(1, 5, kernel_size=(3, 3), stride=(1, 1), padding=(1, 1))\n",
      "  (1): ReLU (inplace)\n",
      "  (2): Conv2d(5, 5, kernel_size=(3, 3), stride=(1, 1), padding=(1, 1))\n",
      "  (3): ReLU (inplace)\n",
      "  (4): Conv2d(5, 5, kernel_size=(3, 3), stride=(1, 1), padding=(1, 1))\n",
      "  (5): ReLU (inplace)\n",
      "  (6): Conv2d(5, 5, kernel_size=(3, 3), stride=(1, 1), padding=(1, 1))\n",
      "  (7): ReLU (inplace)\n",
      "  (8): Conv2d(5, 5, kernel_size=(3, 3), stride=(1, 1), padding=(1, 1))\n",
      "  (9): ReLU (inplace)\n",
      "  (10): Conv2d(5, 5, kernel_size=(3, 3), stride=(1, 1), padding=(1, 1))\n",
      "  (11): ReLU (inplace)\n",
      "  (12): Conv2d(5, 5, kernel_size=(3, 3), stride=(1, 1), padding=(1, 1))\n",
      "  (13): ReLU (inplace)\n",
      "  (14): Conv2d(5, 5, kernel_size=(3, 3), stride=(1, 1), padding=(1, 1))\n",
      "  (15): ReLU (inplace)\n",
      "  (16): Conv2d(5, 5, kernel_size=(3, 3), stride=(1, 1), padding=(1, 1))\n",
      "  (17): ReLU (inplace)\n",
      "  (18): Conv2d(5, 5, kernel_size=(3, 3), stride=(1, 1), padding=(1, 1))\n",
      "  (19): ReLU (inplace)\n",
      "  (20): Conv2d(5, 5, kernel_size=(3, 3), stride=(1, 1), padding=(1, 1))\n",
      "  (21): ReLU (inplace)\n",
      "  (22): Conv2d(5, 5, kernel_size=(3, 3), stride=(1, 1), padding=(1, 1))\n",
      "  (23): ReLU (inplace)\n",
      "  (24): Conv2d(5, 5, kernel_size=(3, 3), stride=(1, 1), padding=(1, 1))\n",
      "  (25): ReLU (inplace)\n",
      "  (26): Conv2d(5, 5, kernel_size=(3, 3), stride=(1, 1), padding=(1, 1))\n",
      "  (27): ReLU (inplace)\n",
      "  (28): Conv2d(5, 5, kernel_size=(3, 3), stride=(1, 1), padding=(1, 1))\n",
      "  (29): ReLU (inplace)\n",
      "  (30): Conv2d(5, 5, kernel_size=(3, 3), stride=(1, 1), padding=(1, 1))\n",
      "  (31): ReLU (inplace)\n",
      "  (32): MaxPool2d (size=(2, 2), stride=(2, 2), dilation=(1, 1))\n",
      ")\n"
     ]
    }
   ],
   "source": [
    "\"\"\"\n",
    "第一个是模型层数，第二个是输入的通道数，第三个是输出的通道数，第一层卷积接受的输入通道就是图片\n",
    "输入的通道数，然后输出最后的输出通道数，后面的卷积接受的通道数就是最后的输出通道数\n",
    "\"\"\"\n",
    "block_demo = vgg_block(16, 1, 5)\n",
    "print(block_demo)"
   ]
  },
  {
   "cell_type": "code",
   "execution_count": 56,
   "metadata": {},
   "outputs": [
    {
     "name": "stdout",
     "output_type": "stream",
     "text": [
      "Sequential (\n",
      "  (0): Conv2d(64, 128, kernel_size=(3, 3), stride=(1, 1), padding=(1, 1))\n",
      "  (1): ReLU (inplace)\n",
      "  (2): Conv2d(128, 128, kernel_size=(3, 3), stride=(1, 1), padding=(1, 1))\n",
      "  (3): ReLU (inplace)\n",
      "  (4): Conv2d(128, 128, kernel_size=(3, 3), stride=(1, 1), padding=(1, 1))\n",
      "  (5): ReLU (inplace)\n",
      "  (6): MaxPool2d (size=(2, 2), stride=(2, 2), dilation=(1, 1))\n",
      ")\n"
     ]
    }
   ],
   "source": [
    "block_demo = vgg_block(3, 64, 128)\n",
    "print(block_demo)"
   ]
  },
  {
   "cell_type": "code",
   "execution_count": 57,
   "metadata": {},
   "outputs": [
    {
     "ename": "AttributeError",
     "evalue": "'Variable' object has no attribute 'shape'",
     "output_type": "error",
     "traceback": [
      "\u001b[0;31m----------------------------------------------------------------------\u001b[0m",
      "\u001b[0;31mAttributeError\u001b[0m                       Traceback (most recent call last)",
      "\u001b[0;32m<ipython-input-57-326c94775e76>\u001b[0m in \u001b[0;36m<module>\u001b[0;34m()\u001b[0m\n\u001b[1;32m      2\u001b[0m \u001b[0minput_demo\u001b[0m \u001b[0;34m=\u001b[0m \u001b[0mVariable\u001b[0m\u001b[0;34m(\u001b[0m\u001b[0mtorch\u001b[0m\u001b[0;34m.\u001b[0m\u001b[0mzeros\u001b[0m\u001b[0;34m(\u001b[0m\u001b[0;36m1\u001b[0m\u001b[0;34m,\u001b[0m \u001b[0;36m64\u001b[0m\u001b[0;34m,\u001b[0m \u001b[0;36m300\u001b[0m\u001b[0;34m,\u001b[0m \u001b[0;36m300\u001b[0m\u001b[0;34m)\u001b[0m\u001b[0;34m)\u001b[0m\u001b[0;34m\u001b[0m\u001b[0m\n\u001b[1;32m      3\u001b[0m \u001b[0moutput_demo\u001b[0m \u001b[0;34m=\u001b[0m \u001b[0mblock_demo\u001b[0m\u001b[0;34m(\u001b[0m\u001b[0minput_demo\u001b[0m\u001b[0;34m)\u001b[0m\u001b[0;34m\u001b[0m\u001b[0m\n\u001b[0;32m----> 4\u001b[0;31m \u001b[0mprint\u001b[0m\u001b[0;34m(\u001b[0m\u001b[0moutput_demo\u001b[0m\u001b[0;34m.\u001b[0m\u001b[0mshape\u001b[0m\u001b[0;34m)\u001b[0m\u001b[0;34m\u001b[0m\u001b[0m\n\u001b[0m",
      "\u001b[0;32m~/anaconda3/lib/python3.6/site-packages/torch/autograd/variable.py\u001b[0m in \u001b[0;36m__getattr__\u001b[0;34m(self, name)\u001b[0m\n\u001b[1;32m     63\u001b[0m         \u001b[0;32mif\u001b[0m \u001b[0mname\u001b[0m \u001b[0;32min\u001b[0m \u001b[0mself\u001b[0m\u001b[0;34m.\u001b[0m\u001b[0m_fallthrough_methods\u001b[0m\u001b[0;34m:\u001b[0m\u001b[0;34m\u001b[0m\u001b[0m\n\u001b[1;32m     64\u001b[0m             \u001b[0;32mreturn\u001b[0m \u001b[0mgetattr\u001b[0m\u001b[0;34m(\u001b[0m\u001b[0mself\u001b[0m\u001b[0;34m.\u001b[0m\u001b[0mdata\u001b[0m\u001b[0;34m,\u001b[0m \u001b[0mname\u001b[0m\u001b[0;34m)\u001b[0m\u001b[0;34m\u001b[0m\u001b[0m\n\u001b[0;32m---> 65\u001b[0;31m         \u001b[0;32mreturn\u001b[0m \u001b[0mobject\u001b[0m\u001b[0;34m.\u001b[0m\u001b[0m__getattribute__\u001b[0m\u001b[0;34m(\u001b[0m\u001b[0mself\u001b[0m\u001b[0;34m,\u001b[0m \u001b[0mname\u001b[0m\u001b[0;34m)\u001b[0m\u001b[0;34m\u001b[0m\u001b[0m\n\u001b[0m\u001b[1;32m     66\u001b[0m \u001b[0;34m\u001b[0m\u001b[0m\n\u001b[1;32m     67\u001b[0m     \u001b[0;32mdef\u001b[0m \u001b[0m__getitem__\u001b[0m\u001b[0;34m(\u001b[0m\u001b[0mself\u001b[0m\u001b[0;34m,\u001b[0m \u001b[0mkey\u001b[0m\u001b[0;34m)\u001b[0m\u001b[0;34m:\u001b[0m\u001b[0;34m\u001b[0m\u001b[0m\n",
      "\u001b[0;31mAttributeError\u001b[0m: 'Variable' object has no attribute 'shape'"
     ]
    }
   ],
   "source": [
    "# 首先定义输入为 (1, 64, 300, 300)\n",
    "input_demo = Variable(torch.zeros(1, 64, 300, 300))\n",
    "output_demo = block_demo(input_demo)\n"
   ]
  },
  {
   "cell_type": "code",
   "execution_count": 61,
   "metadata": {},
   "outputs": [
    {
     "name": "stdout",
     "output_type": "stream",
     "text": [
      "torch.Size([1, 128, 150, 150])\n"
     ]
    }
   ],
   "source": [
    "print(output_demo.data.shape)"
   ]
  },
  {
   "cell_type": "code",
   "execution_count": 62,
   "metadata": {
    "collapsed": true
   },
   "outputs": [],
   "source": [
    "def vgg_stack(num_convs, channels):\n",
    "    net = []\n",
    "    for n, c in zip(num_convs, channels):\n",
    "        in_c = c[0]\n",
    "        out_c = c[1]\n",
    "        net.append(vgg_block(n, in_c, out_c))\n",
    "    return nn.Sequential(*net)"
   ]
  },
  {
   "cell_type": "code",
   "execution_count": 63,
   "metadata": {},
   "outputs": [
    {
     "name": "stdout",
     "output_type": "stream",
     "text": [
      "Sequential (\n",
      "  (0): Sequential (\n",
      "    (0): Conv2d(3, 64, kernel_size=(3, 3), stride=(1, 1), padding=(1, 1))\n",
      "    (1): ReLU (inplace)\n",
      "    (2): MaxPool2d (size=(2, 2), stride=(2, 2), dilation=(1, 1))\n",
      "  )\n",
      "  (1): Sequential (\n",
      "    (0): Conv2d(64, 128, kernel_size=(3, 3), stride=(1, 1), padding=(1, 1))\n",
      "    (1): ReLU (inplace)\n",
      "    (2): MaxPool2d (size=(2, 2), stride=(2, 2), dilation=(1, 1))\n",
      "  )\n",
      "  (2): Sequential (\n",
      "    (0): Conv2d(128, 256, kernel_size=(3, 3), stride=(1, 1), padding=(1, 1))\n",
      "    (1): ReLU (inplace)\n",
      "    (2): Conv2d(256, 256, kernel_size=(3, 3), stride=(1, 1), padding=(1, 1))\n",
      "    (3): ReLU (inplace)\n",
      "    (4): MaxPool2d (size=(2, 2), stride=(2, 2), dilation=(1, 1))\n",
      "  )\n",
      "  (3): Sequential (\n",
      "    (0): Conv2d(256, 512, kernel_size=(3, 3), stride=(1, 1), padding=(1, 1))\n",
      "    (1): ReLU (inplace)\n",
      "    (2): Conv2d(512, 512, kernel_size=(3, 3), stride=(1, 1), padding=(1, 1))\n",
      "    (3): ReLU (inplace)\n",
      "    (4): MaxPool2d (size=(2, 2), stride=(2, 2), dilation=(1, 1))\n",
      "  )\n",
      "  (4): Sequential (\n",
      "    (0): Conv2d(512, 512, kernel_size=(3, 3), stride=(1, 1), padding=(1, 1))\n",
      "    (1): ReLU (inplace)\n",
      "    (2): Conv2d(512, 512, kernel_size=(3, 3), stride=(1, 1), padding=(1, 1))\n",
      "    (3): ReLU (inplace)\n",
      "    (4): MaxPool2d (size=(2, 2), stride=(2, 2), dilation=(1, 1))\n",
      "  )\n",
      ")\n"
     ]
    }
   ],
   "source": [
    "vgg_net = vgg_stack((1, 1, 2, 2, 2), ((3, 64), (64, 128), (128, 256), (256, 512), (512, 512)))\n",
    "print(vgg_net)"
   ]
  },
  {
   "cell_type": "code",
   "execution_count": 64,
   "metadata": {},
   "outputs": [
    {
     "name": "stdout",
     "output_type": "stream",
     "text": [
      "torch.Size([1, 512, 8, 8])\n"
     ]
    }
   ],
   "source": [
    "test_x = Variable(torch.zeros(1, 3, 256, 256))\n",
    "test_y = vgg_net(test_x)\n",
    "print(test_y.data.shape)"
   ]
  },
  {
   "cell_type": "code",
   "execution_count": 65,
   "metadata": {
    "collapsed": true
   },
   "outputs": [],
   "source": [
    "class vgg(nn.Module):\n",
    "    def __init__(self):\n",
    "        super(vgg, self).__init__()\n",
    "        self.feature = vgg_net\n",
    "        self.fc = nn.Sequential(\n",
    "            nn.Linear(512, 100),\n",
    "            nn.ReLU(True),\n",
    "            nn.Linear(100, 10)\n",
    "        )\n",
    "    def forward(self, x):\n",
    "        x = self.feature(x)\n",
    "        x = x.view(x.shape[0], -1)\n",
    "        x = self.fc(x)\n",
    "        return x"
   ]
  },
  {
   "cell_type": "code",
   "execution_count": null,
   "metadata": {
    "collapsed": true
   },
   "outputs": [],
   "source": []
  }
 ],
 "metadata": {
  "kernelspec": {
   "display_name": "Python 3",
   "language": "python",
   "name": "python3"
  },
  "language_info": {
   "codemirror_mode": {
    "name": "ipython",
    "version": 3
   },
   "file_extension": ".py",
   "mimetype": "text/x-python",
   "name": "python",
   "nbconvert_exporter": "python",
   "pygments_lexer": "ipython3",
   "version": "3.6.3"
  }
 },
 "nbformat": 4,
 "nbformat_minor": 2
}
